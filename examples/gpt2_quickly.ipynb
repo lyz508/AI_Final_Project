{
  "nbformat": 4,
  "nbformat_minor": 0,
  "metadata": {
    "colab": {
      "name": "gpt2-quickly.ipynb",
      "provenance": []
    },
    "kernelspec": {
      "name": "python3",
      "display_name": "Python 3"
    },
    "accelerator": "GPU"
  },
  "cells": [
    {
      "cell_type": "code",
      "metadata": {
        "id": "omMmlBcEhAnZ",
        "outputId": "db84964d-fd61-4243-962b-2132de000d47",
        "colab": {
          "base_uri": "https://localhost:8080/"
        }
      },
      "source": [
        "!git clone https://github.com/mymusise/gpt2-quickly.git\n",
        "%cd gpt2-quickly\n",
        "!pip install -r requirements.txt"
      ],
      "execution_count": null,
      "outputs": []
    },
    {
      "cell_type": "code",
      "metadata": {
        "id": "oIV0l_g-i_lK",
        "outputId": "17cedfe4-b491-49c3-dadb-4bba3079a9d0",
        "colab": {
          "base_uri": "https://localhost:8080/"
        }
      },
      "source": [
        "!python build_tokenizer.py\n",
        "!head -n 20 dataset/test/vocab.txt"
      ],
      "execution_count": null,
      "outputs": []
    },
    {
      "cell_type": "code",
      "metadata": {
        "id": "6sw50oOIi-Be",
        "outputId": "88a689fa-2a14-41d0-dbf3-9149ec729836",
        "colab": {
          "base_uri": "https://localhost:8080/"
        }
      },
      "source": [
        "!python predata.py\n",
        "!python train.py"
      ],
      "execution_count": null,
      "outputs": []
    },
    {
      "cell_type": "code",
      "metadata": {
        "id": "xSFuK-tgs9xf"
      },
      "source": [
        "!python predict.py"
      ],
      "execution_count": null,
      "outputs": []
    }
  ]
}