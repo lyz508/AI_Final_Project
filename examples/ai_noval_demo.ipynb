{
  "nbformat": 4,
  "nbformat_minor": 0,
  "metadata": {
    "colab": {
      "name": "ai_noval_demo.ipynb",
      "provenance": [],
      "collapsed_sections": []
    },
    "kernelspec": {
      "display_name": "Python 3",
      "name": "python3"
    }
  },
  "cells": [
    {
      "cell_type": "code",
      "metadata": {
        "id": "-irg8cbucTA6"
      },
      "source": [
        "!pip install transformers"
      ],
      "execution_count": null,
      "outputs": []
    },
    {
      "cell_type": "code",
      "metadata": {
        "id": "4ba0k0hkcNks",
        "outputId": "b023991e-da51-4344-acf1-905b59ce1b44",
        "colab": {
          "base_uri": "https://localhost:8080/"
        }
      },
      "source": [
        "from transformers import BertTokenizer, TFGPT2LMHeadModel\n",
        "\n",
        "tokenizer = BertTokenizer.from_pretrained(\"mymusise/EasternFantasyNoval\")\n",
        "\n",
        "model = TFGPT2LMHeadModel.from_pretrained(\"mymusise/EasternFantasyNoval\")"
      ],
      "execution_count": null,
      "outputs": [
        {
          "output_type": "stream",
          "text": [
            "All model checkpoint layers were used when initializing TFGPT2LMHeadModel.\n",
            "\n",
            "All the layers of TFGPT2LMHeadModel were initialized from the model checkpoint at mymusise/EasternFantasyNoval.\n",
            "If your task is similar to the task the model of the checkpoint was trained on, you can already use TFGPT2LMHeadModel for predictions without further training.\n"
          ],
          "name": "stderr"
        }
      ]
    },
    {
      "cell_type": "code",
      "metadata": {
        "id": "AHfpYLsPdEgU",
        "outputId": "a4c82e77-6840-44a3-c298-f11c6731a741",
        "colab": {
          "background_save": true
        }
      },
      "source": [
        "from transformers import TextGenerationPipeline\n",
        "\n",
        "text_generator = TextGenerationPipeline(model, tokenizer)\n",
        "print(text_generator(\"走向森林\", max_length=120, do_sample=True, top_k=10, eos_token_id=tokenizer.get_vocab().get(\"】\", 0)))\n",
        "print(text_generator(\"拿出一本秘籍\", max_length=120, do_sample=True, top_k=10, eos_token_id=tokenizer.get_vocab().get(\"】\", 0)))"
      ],
      "execution_count": null,
      "outputs": [
        {
          "output_type": "stream",
          "text": [
            "[{'generated_text': '走向森林 区 。 这 一 次 ， 罗 南 出 的 火 球 术 ， 是 一 门 强 大 的 术 ， 只 要 是 一 个 术 ， 都 是 可 以 进 行 的 。 尽 管 是 一 个 很 有 的 技 术 ， 但 至 少 他 对 术 不 行 ！ 只 要 这 子 了 术 ， 罗 南 的 精 神 术 会 就 会 立 刻 进 入 状 态 。 “ 术 是 师 用 来 对 师 以 及 师 的 火 焰 精'}]\n",
            "[{'generated_text': '拿出一本秘籍 ， 细 细 观 察 。 “ ， 。 ” “ 我 已 查 清 了 ！ ” 方 成 着 牙 ， 一 字 一 道 。 第 六 十 五 章 花 “ 方 成 阁 下 ， 这 秘 是 什 么 ？ ” 花 模 样 ， 有 着 一 道 道 规 则 规 则 规 则 ， 蕴 其 内 ， 着 的 味 。 “ ？ ” 方 成 皱 着 眉 头 。 这 秘 的 秘 ， 正 是 因 为'}]\n"
          ],
          "name": "stdout"
        }
      ]
    }
  ]
}